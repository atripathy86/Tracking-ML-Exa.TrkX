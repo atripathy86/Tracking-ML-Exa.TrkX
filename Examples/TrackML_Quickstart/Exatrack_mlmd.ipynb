{
 "cells": [
  {
   "cell_type": "markdown",
   "id": "92316a38",
   "metadata": {},
   "source": [
    "### Analyzing CMF pipeline metadata for Exatrack Pipeline (stored with CMF tracking layer queried with CMF query layer)."
   ]
  },
  {
   "cell_type": "code",
   "execution_count": 29,
   "id": "d8cecabd",
   "metadata": {},
   "outputs": [],
   "source": [
    "import pandas as pd\n",
    "from cmflib import cmfquery"
   ]
  },
  {
   "cell_type": "markdown",
   "id": "9ae54008",
   "metadata": {},
   "source": [
    "##### Initialize the library and get all the stages in the pipeline\n",
    "Point the library to the metadata file. <br>\n",
    "The `get_pipeline_stages` call point to the different stages in the pipeline."
   ]
  },
  {
   "cell_type": "code",
   "execution_count": 30,
   "id": "8b735117",
   "metadata": {
    "pycharm": {
     "is_executing": true
    }
   },
   "outputs": [
    {
     "name": "stdout",
     "output_type": "stream",
     "text": [
      "['1. Train Metric Learning', '2. Metric Learning Inference', '3. Train GNN', '4. GNN Inference', '5. Build Track Candidates', '6. Evaluate Track Candidates']\n"
     ]
    }
   ],
   "source": [
    "query = cmfquery.CmfQuery(\"./mlmd_old\")\n",
    "stages = query.get_pipeline_stages(\"exatrkx\")\n",
    "print(stages)"
   ]
  },
  {
   "cell_type": "markdown",
   "id": "5ac1591f",
   "metadata": {},
   "source": [
    "##### Query the Executions for **1. Train Metric Learning**"
   ]
  },
  {
   "cell_type": "code",
   "execution_count": 31,
   "id": "da0ee66d",
   "metadata": {
    "pycharm": {
     "is_executing": true
    }
   },
   "outputs": [
    {
     "name": "stdout",
     "output_type": "stream",
     "text": [
      "   Context_ID Context_Type       Execution Git_End_Commit  \\\n",
      "0           2       Train1  ['run_cmf.py']                  \n",
      "1           2       Train1  ['run_cmf.py']                  \n",
      "\n",
      "                                              Git_Repo  \\\n",
      "0  git@github.com:atripathy86/Tracking-ML-Exa.TrkX.git   \n",
      "1  git@github.com:atripathy86/Tracking-ML-Exa.TrkX.git   \n",
      "\n",
      "                           Git_Start_Commit Pipeline_Type  Pipeline_id  \\\n",
      "0  1e842843f55b010a1feeb1f8829641d1b0df1b4f       exatrkx            1   \n",
      "1  0eb6db20770600353549ae0a4297a4763aeef769       exatrkx            1   \n",
      "\n",
      "  activation  cell_channels  ...  r_test  r_train  r_val  randomisation  \\\n",
      "0       Tanh              9  ...       0        0      0              2   \n",
      "1       Tanh              9  ...       0        0      0              2   \n",
      "\n",
      "                  regime  spatial_channels   train_split  \\\n",
      "0  ['rp', 'hnm', 'norm']                 3  [80, 10, 10]   \n",
      "1  ['rp', 'hnm', 'norm']                 3  [80, 10, 10]   \n",
      "\n",
      "              true_edges  warmup  weight  \n",
      "0  modulewise_true_edges       8       2  \n",
      "1  modulewise_true_edges       8       2  \n",
      "\n",
      "[2 rows x 35 columns]\n"
     ]
    }
   ],
   "source": [
    "pd.options.display.max_colwidth = 220\n",
    "executions = query.get_all_executions_in_stage('1. Train Metric Learning')\n",
    "print(executions)"
   ]
  },
  {
   "cell_type": "markdown",
   "id": "cbc05fd9",
   "metadata": {
    "tags": []
   },
   "source": [
    "##### Query the Executions in **2. Metric Learning Inference**"
   ]
  },
  {
   "cell_type": "code",
   "execution_count": 33,
   "id": "cd81efe0",
   "metadata": {
    "pycharm": {
     "is_executing": true
    }
   },
   "outputs": [
    {
     "name": "stdout",
     "output_type": "stream",
     "text": [
      "   Context_ID Context_Type       Execution Git_End_Commit  \\\n",
      "0           3       Infer1  ['run_cmf.py']                  \n",
      "1           3       Infer1  ['run_cmf.py']                  \n",
      "\n",
      "                                              Git_Repo  \\\n",
      "0  git@github.com:atripathy86/Tracking-ML-Exa.TrkX.git   \n",
      "1  git@github.com:atripathy86/Tracking-ML-Exa.TrkX.git   \n",
      "\n",
      "                           Git_Start_Commit Pipeline_Type  Pipeline_id  \\\n",
      "0  583423f068fae4843f39fcc8753834aedab7bc44       exatrkx            1   \n",
      "1  02c8f5ce2c03a88450ca65490155cc60f3cefa56       exatrkx            1   \n",
      "\n",
      "  activation  cell_channels  ...  r_test  r_train  r_val  randomisation  \\\n",
      "0       Tanh              9  ...       0        0      0              2   \n",
      "1       Tanh              9  ...       0        0      0              2   \n",
      "\n",
      "                  regime  spatial_channels   train_split  \\\n",
      "0  ['rp', 'hnm', 'norm']                 3  [80, 10, 10]   \n",
      "1  ['rp', 'hnm', 'norm']                 3  [80, 10, 10]   \n",
      "\n",
      "              true_edges  warmup  weight  \n",
      "0  modulewise_true_edges       8       2  \n",
      "1  modulewise_true_edges       8       2  \n",
      "\n",
      "[2 rows x 35 columns]\n"
     ]
    }
   ],
   "source": [
    "pd.options.display.max_colwidth = 220\n",
    "executions = query.get_all_executions_in_stage('2. Metric Learning Inference')\n",
    "print(executions)"
   ]
  },
  {
   "cell_type": "markdown",
   "id": "dd5c7d70",
   "metadata": {
    "pycharm": {
     "name": "#%% md\n"
    }
   },
   "source": [
    "##### Query the Executions in **3. Train GNN**"
   ]
  },
  {
   "cell_type": "code",
   "execution_count": 43,
   "id": "32c8fd0c",
   "metadata": {
    "pycharm": {
     "is_executing": true
    }
   },
   "outputs": [
    {
     "name": "stdout",
     "output_type": "stream",
     "text": [
      "   Context_ID Context_Type       Execution Git_End_Commit  \\\n",
      "0           4     TrainGNN  ['run_cmf.py']                  \n",
      "1           4     TrainGNN  ['run_cmf.py']                  \n",
      "\n",
      "                                              Git_Repo  \\\n",
      "0  git@github.com:atripathy86/Tracking-ML-Exa.TrkX.git   \n",
      "1  git@github.com:atripathy86/Tracking-ML-Exa.TrkX.git   \n",
      "\n",
      "                           Git_Start_Commit Pipeline_Type  Pipeline_id  \\\n",
      "0  9ed673874415bdd485ffee7e8607c0bfe7cf6ba5       exatrkx            1   \n",
      "1  1017d2c851e88b2c8128dd45a7e89375e9a3a279       exatrkx            1   \n",
      "\n",
      "  aggregation  cell_channels  ... noise                         output_dir  \\\n",
      "0     sum_max              0  ...     0  datasets/quickstart_gnn_processed   \n",
      "1     sum_max              0  ...     0  datasets/quickstart_gnn_processed   \n",
      "\n",
      "   patience  pt_background_min  pt_signal_min   regime  spatial_channels  \\\n",
      "0         8                  0              0  ['pid']                 3   \n",
      "1         8                  0              0  ['pid']                 3   \n",
      "\n",
      "    truth_key  warmup  weight  \n",
      "0  pid_signal      10       2  \n",
      "1  pid_signal      10       2  \n",
      "\n",
      "[2 rows x 35 columns]\n"
     ]
    }
   ],
   "source": [
    "executions = query.get_all_executions_in_stage('3. Train GNN')\n",
    "print(executions)"
   ]
  },
  {
   "cell_type": "markdown",
   "id": "0342196a",
   "metadata": {},
   "source": [
    "##### Query the Executions in **4. GNN Inference**"
   ]
  },
  {
   "cell_type": "code",
   "execution_count": 44,
   "id": "e1bcfcd0",
   "metadata": {
    "pycharm": {
     "is_executing": true
    }
   },
   "outputs": [
    {
     "name": "stdout",
     "output_type": "stream",
     "text": [
      "   Context_ID Context_Type       Execution Git_End_Commit  \\\n",
      "0           5     InferGNN  ['run_cmf.py']                  \n",
      "1           5     InferGNN  ['run_cmf.py']                  \n",
      "\n",
      "                                              Git_Repo  \\\n",
      "0  git@github.com:atripathy86/Tracking-ML-Exa.TrkX.git   \n",
      "1  git@github.com:atripathy86/Tracking-ML-Exa.TrkX.git   \n",
      "\n",
      "                           Git_Start_Commit Pipeline_Type  Pipeline_id  \\\n",
      "0  fcb36b975401a6c1c8069e6df7b5f15119abedd9       exatrkx            1   \n",
      "1  f38ebb71d80b87add556b52f2f74b1815499b98c       exatrkx            1   \n",
      "\n",
      "  aggregation  cell_channels  ... noise                         output_dir  \\\n",
      "0     sum_max              0  ...     0  datasets/quickstart_gnn_processed   \n",
      "1     sum_max              0  ...     0  datasets/quickstart_gnn_processed   \n",
      "\n",
      "   patience  pt_background_min  pt_signal_min   regime  spatial_channels  \\\n",
      "0         8                  0              0  ['pid']                 3   \n",
      "1         8                  0              0  ['pid']                 3   \n",
      "\n",
      "    truth_key  warmup  weight  \n",
      "0  pid_signal      10       2  \n",
      "1  pid_signal      10       2  \n",
      "\n",
      "[2 rows x 35 columns]\n"
     ]
    }
   ],
   "source": [
    "executions = query.get_all_executions_in_stage('4. GNN Inference')\n",
    "print(executions)"
   ]
  },
  {
   "cell_type": "markdown",
   "id": "5a3051e3-18ec-447d-bf67-3b0171177f2b",
   "metadata": {},
   "source": [
    "##### Query the Executions in **5. Build Track Candidates**"
   ]
  },
  {
   "cell_type": "code",
   "execution_count": 45,
   "id": "03fda968-30c1-4c0a-845a-a767dc50bc1a",
   "metadata": {},
   "outputs": [
    {
     "name": "stdout",
     "output_type": "stream",
     "text": [
      "   Context_ID     Context_Type       Execution Git_End_Commit  \\\n",
      "0           6  TrackCandidates  ['run_cmf.py']                  \n",
      "1           6  TrackCandidates  ['run_cmf.py']                  \n",
      "\n",
      "                                              Git_Repo  \\\n",
      "0  git@github.com:atripathy86/Tracking-ML-Exa.TrkX.git   \n",
      "1  git@github.com:atripathy86/Tracking-ML-Exa.TrkX.git   \n",
      "\n",
      "                           Git_Start_Commit Pipeline_Type  Pipeline_id  id  \\\n",
      "0  5934238ce4a1daa1c380427b9599c96b82eb8a98       exatrkx            1  10   \n",
      "1  7391e66236f06aab6ac8e2dc562f23370688dcf7       exatrkx            1   5   \n",
      "\n",
      "                                     output_dir  score_cut  \n",
      "0  datasets/quickstart_track_building_processed          0  \n",
      "1  datasets/quickstart_track_building_processed          0  \n"
     ]
    }
   ],
   "source": [
    "executions = query.get_all_executions_in_stage('5. Build Track Candidates')\n",
    "print(executions)"
   ]
  },
  {
   "cell_type": "markdown",
   "id": "1b50e912-feea-4d7e-b8f2-46d7a4338cc6",
   "metadata": {},
   "source": [
    "##### Query the Executions in **6. Evaluate Track Candidates**"
   ]
  },
  {
   "cell_type": "code",
   "execution_count": 46,
   "id": "8b1e7947-f596-48f5-a494-0d7d58276ca2",
   "metadata": {},
   "outputs": [
    {
     "name": "stdout",
     "output_type": "stream",
     "text": [
      "   Context_ID         Context_Type       Execution Git_End_Commit  \\\n",
      "0           7  EvalTrackCandidates  ['run_cmf.py']                  \n",
      "\n",
      "                                              Git_Repo  \\\n",
      "0  git@github.com:atripathy86/Tracking-ML-Exa.TrkX.git   \n",
      "\n",
      "                           Git_Start_Commit Pipeline_Type  Pipeline_id  id  \\\n",
      "0  683d2c1accda5f402567411c97a0c04111d6a224       exatrkx            1  11   \n",
      "\n",
      "   matching_fraction matching_style  max_eta  min_particle_length  min_pt  \\\n",
      "0                  0          ATLAS        4                    3       1   \n",
      "\n",
      "   min_track_length                      output_dir  \n",
      "0                 3  datasets/quickstart_evaluation  \n"
     ]
    }
   ],
   "source": [
    "executions = query.get_all_executions_in_stage('6. Evaluate Track Candidates')\n",
    "print(executions)"
   ]
  },
  {
   "cell_type": "markdown",
   "id": "5a3599af",
   "metadata": {
    "tags": []
   },
   "source": [
    "##### Get all the artifacts of execution. \n",
    "<b>input parameter - execution_id</b><br>\n",
    "<b>output parameter - artifacts</b><br>\n"
   ]
  },
  {
   "cell_type": "code",
   "execution_count": 50,
   "id": "6fa93876",
   "metadata": {
    "pycharm": {
     "is_executing": true
    }
   },
   "outputs": [
    {
     "name": "stdout",
     "output_type": "stream",
     "text": [
      "                                            Commit  create_time_since_epoch  \\\n",
      "0  commit 5e901658ed19e7ef0bc061ac56315a171bdb025d            1663100205652   \n",
      "1  commit dd92fe06becd11da4a03b4a3cf93a19e7a9a8097            1663100208307   \n",
      "2  commit 02c8f5ce2c03a88450ca65490155cc60f3cefa56            1663100210546   \n",
      "\n",
      "    event                                             git_repo  id  \\\n",
      "0   INPUT  git@github.com:atripathy86/Tracking-ML-Exa.TrkX.git   1   \n",
      "1  OUTPUT  git@github.com:atripathy86/Tracking-ML-Exa.TrkX.git   2   \n",
      "2  OUTPUT                                                  NaN   3   \n",
      "\n",
      "   last_update_time_since_epoch   model_framework          model_name  \\\n",
      "0                 1663100205652               NaN                 NaN   \n",
      "1                 1663100208307               NaN                 NaN   \n",
      "2                 1663100210546  PyTorchLightning  LayerlessEmbedding   \n",
      "\n",
      "      model_type  \\\n",
      "0            NaN   \n",
      "1            NaN   \n",
      "2  MLP Embedding   \n",
      "\n",
      "                                                                                     name  \\\n",
      "0                   datasets/quickstart_example_1GeV:48d329424dac06431b09486e194a5ae9.dir   \n",
      "1      datasets/quickstart_metric_learning_processed:162349f1df2916e321b506159e634695.dir   \n",
      "2  artifacts/metric_learning/trackml_quickstart_2.ckpt:f90837df06e9649f5a949e8e1a562265:1   \n",
      "\n",
      "      type                                   uri  \n",
      "0  Dataset  48d329424dac06431b09486e194a5ae9.dir  \n",
      "1  Dataset  162349f1df2916e321b506159e634695.dir  \n",
      "2    Model      f90837df06e9649f5a949e8e1a562265  \n"
     ]
    }
   ],
   "source": [
    "artifacts = query.get_all_artifacts_for_execution(1)\n",
    "print(artifacts)"
   ]
  },
  {
   "cell_type": "code",
   "execution_count": 51,
   "id": "2e82cf28",
   "metadata": {
    "pycharm": {
     "is_executing": true
    }
   },
   "outputs": [
    {
     "name": "stdout",
     "output_type": "stream",
     "text": [
      "0                     datasets/quickstart_example_1GeV:48d329424dac06431b09486e194a5ae9.dir\n",
      "1        datasets/quickstart_metric_learning_processed:162349f1df2916e321b506159e634695.dir\n",
      "2    artifacts/metric_learning/trackml_quickstart_2.ckpt:f90837df06e9649f5a949e8e1a562265:1\n",
      "Name: name, dtype: object\n",
      "0     INPUT\n",
      "1    OUTPUT\n",
      "2    OUTPUT\n",
      "Name: event, dtype: object\n"
     ]
    }
   ],
   "source": [
    "#print(pd.options.display.max_colwidth)\n",
    "pd.options.display.max_colwidth = 120\n",
    "artifacts = query.get_all_artifacts_for_execution(1)\n",
    "\n",
    "# print(artifacts)\n",
    "print(artifacts[\"name\"])\n",
    "print(artifacts[\"event\"])"
   ]
  },
  {
   "cell_type": "markdown",
   "id": "d15b7386",
   "metadata": {},
   "source": [
    "#### get all executions for an artifact(pass the artifact full name as the input parameter)"
   ]
  },
  {
   "cell_type": "code",
   "execution_count": 52,
   "id": "f1632d60",
   "metadata": {
    "pycharm": {
     "is_executing": true
    }
   },
   "outputs": [
    {
     "name": "stdout",
     "output_type": "stream",
     "text": [
      "     Type  execution_id execution_name pipeline                     stage\n",
      "0  OUTPUT             1                 exatrkx  1. Train Metric Learning\n"
     ]
    }
   ],
   "source": [
    "linked = query.get_all_executions_for_artifact(\"datasets/quickstart_metric_learning_processed:162349f1df2916e321b506159e634695.dir\")\n",
    "print(linked)"
   ]
  },
  {
   "cell_type": "markdown",
   "id": "7ad864e3",
   "metadata": {},
   "source": [
    "#### Get all the parent artifacts of an artifact. Provides the artifact lineage chain"
   ]
  },
  {
   "cell_type": "code",
   "execution_count": null,
   "id": "09652709",
   "metadata": {
    "pycharm": {
     "is_executing": true
    }
   },
   "outputs": [],
   "source": [
    "linked = query.get_all_parent_artifacts(\"artifacts/features/test.pkl\")\n",
    "print(linked)"
   ]
  },
  {
   "cell_type": "markdown",
   "id": "63b615f1",
   "metadata": {},
   "source": [
    "#### Get all the child artifacts of an artifact. Provides the lineage chain in the downstream direction"
   ]
  },
  {
   "cell_type": "code",
   "execution_count": null,
   "id": "57b85ea6",
   "metadata": {
    "pycharm": {
     "is_executing": true
    }
   },
   "outputs": [],
   "source": [
    "linked = query.get_all_child_artifacts(\"artifacts/features/train.pkl\")\n",
    "\n",
    "print(\"Name : \" + linked[\"name\"].to_string(index=False, header=False))\n",
    "print(\"Type : \" + linked[\"type\"].to_string(index=False, header=False))\n",
    "print(\"URI : \" + linked[\"uri\"].to_string(index=False, header=False))"
   ]
  },
  {
   "cell_type": "markdown",
   "id": "4cf2f2e6",
   "metadata": {
    "pycharm": {
     "name": "#%% md\n"
    }
   },
   "source": [
    "#### Get all the parent artifacts of an artifact. Provides the artifact lineage chain"
   ]
  },
  {
   "cell_type": "code",
   "execution_count": null,
   "id": "493bd571",
   "metadata": {
    "pycharm": {
     "is_executing": true
    }
   },
   "outputs": [],
   "source": [
    "linked = query.get_all_parent_artifacts(\"artifacts/model/model.pkl\")\n",
    "print(\"NAME\")\n",
    "print(linked[\"name\"].to_string(index=False, header=False))\n",
    "print(\"TYPE\")\n",
    "print(linked[\"type\"].to_string(index=False, header=False))\n",
    "print(\"URI\")\n",
    "print(linked[\"uri\"].to_string(index=False, header=False))"
   ]
  },
  {
   "cell_type": "code",
   "execution_count": null,
   "id": "a4c338be",
   "metadata": {
    "pycharm": {
     "is_executing": true
    }
   },
   "outputs": [],
   "source": [
    "linked = query.get_all_parent_artifacts(\"artifacts/parsed/test.tsv\")\n",
    "print(\"Name : \" + linked[\"name\"].to_string(index=False, header=False))\n",
    "print(\"Type : \" + linked[\"type\"].to_string(index=False, header=False))\n",
    "print(\"URI : \" + linked[\"uri\"].to_string(index=False, header=False))"
   ]
  },
  {
   "cell_type": "code",
   "execution_count": null,
   "id": "4eb35ec5",
   "metadata": {
    "pycharm": {
     "is_executing": true
    }
   },
   "outputs": [],
   "source": [
    "linked = query.get_all_child_artifacts(\"artifacts/parsed/test.tsv\")\n",
    "print(\"NAME\")\n",
    "print(linked[\"name\"].to_string(index=False, header=False))\n",
    "print(\"TYPE\")\n",
    "print(linked[\"type\"].to_string(index=False, header=False))\n",
    "print(\"URI\")\n",
    "print(linked[\"uri\"].to_string(index=False, header=False))"
   ]
  },
  {
   "cell_type": "markdown",
   "id": "29060ba9",
   "metadata": {},
   "source": [
    "#### Get immediate child artifacts of an artifact. "
   ]
  },
  {
   "cell_type": "code",
   "execution_count": null,
   "id": "93bd401d",
   "metadata": {
    "pycharm": {
     "is_executing": true
    }
   },
   "outputs": [],
   "source": [
    "linked = query.get_one_hop_child_artifacts(\"artifacts/data.xml.gz\")\n",
    "print(\"NAME\")\n",
    "print(linked[\"name\"].to_string(index=False, header=False))\n",
    "print(\"TYPE\")\n",
    "print(linked[\"type\"].to_string(index=False, header=False))\n",
    "print(\"URI\")\n",
    "print(linked[\"uri\"].to_string(index=False, header=False))"
   ]
  },
  {
   "cell_type": "code",
   "execution_count": null,
   "id": "496ee2bc",
   "metadata": {
    "pycharm": {
     "is_executing": true
    }
   },
   "outputs": [],
   "source": [
    "linked = query.get_all_child_artifacts(\"artifacts/data.xml.gz\")\n",
    "#print(linked.sort_values('create_time_since_epoch', ascending=True))\n",
    "print(\"NAME\")\n",
    "print(linked[\"name\"].to_string(index=False, header=False))\n",
    "print(\"TYPE\")\n",
    "print(linked[\"type\"].to_string(index=False, header=False))\n",
    "print(\"URI\")\n",
    "print(linked[\"uri\"].to_string(index=False, header=False))"
   ]
  },
  {
   "cell_type": "code",
   "execution_count": null,
   "id": "1ae1d868",
   "metadata": {
    "pycharm": {
     "is_executing": true
    }
   },
   "outputs": [],
   "source": [
    "linked = query.get_all_artifacts_for_execution(4)\n",
    "print(\"NAME\")\n",
    "print(linked[\"name\"].to_string(index=False, header=False))\n",
    "print(\"TYPE\")\n",
    "print(linked[\"type\"].to_string(index=False, header=False))\n",
    "print(\"URI\")\n",
    "print(linked[\"uri\"].to_string(index=False, header=False))"
   ]
  },
  {
   "cell_type": "markdown",
   "id": "ae3109b7",
   "metadata": {},
   "source": [
    "### Change the metrics name in the get_artifact call with the metrics name from output of the previous cell"
   ]
  },
  {
   "cell_type": "code",
   "execution_count": null,
   "id": "8bf8a41d",
   "metadata": {
    "pycharm": {
     "is_executing": true
    }
   },
   "outputs": [],
   "source": [
    "artifacts = query.get_artifact(\"metrics:aaae534e-915d-11ec-b106-89841b9859cd:4\")\n",
    "print(artifacts)\n"
   ]
  },
  {
   "cell_type": "code",
   "execution_count": null,
   "id": "ca26387d",
   "metadata": {
    "pycharm": {
     "is_executing": true,
     "name": "#%%\n"
    }
   },
   "outputs": [],
   "source": [
    "new_parquet_df = pd.read_parquet(\"./slice-a\")\n",
    "print(new_parquet_df)"
   ]
  }
 ],
 "metadata": {
  "kernelspec": {
   "display_name": "Python 3 (ipykernel)",
   "language": "python",
   "name": "python3"
  },
  "language_info": {
   "codemirror_mode": {
    "name": "ipython",
    "version": 3
   },
   "file_extension": ".py",
   "mimetype": "text/x-python",
   "name": "python",
   "nbconvert_exporter": "python",
   "pygments_lexer": "ipython3",
   "version": "3.8.13"
  }
 },
 "nbformat": 4,
 "nbformat_minor": 5
}
