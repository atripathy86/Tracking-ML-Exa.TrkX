{
 "cells": [
  {
   "cell_type": "markdown",
   "id": "92316a38",
   "metadata": {},
   "source": [
    "### Analyzing CMF pipeline metadata for Exatrack Pipeline (stored with CMF tracking layer queried with CMF query layer)."
   ]
  },
  {
   "cell_type": "code",
   "execution_count": 1,
   "id": "d8cecabd",
   "metadata": {},
   "outputs": [],
   "source": [
    "import pandas as pd\n",
    "from cmflib import cmfquery"
   ]
  },
  {
   "cell_type": "markdown",
   "id": "9ae54008",
   "metadata": {},
   "source": [
    "##### Initialize the library and get all the stages in the pipeline\n",
    "Point the library to the metadata file. <br>\n",
    "The `get_pipeline_stages` call point to the different stages in the pipeline."
   ]
  },
  {
   "cell_type": "code",
   "execution_count": 13,
   "id": "8b735117",
   "metadata": {
    "pycharm": {
     "is_executing": true
    }
   },
   "outputs": [
    {
     "name": "stdout",
     "output_type": "stream",
     "text": [
      "['Train', '1. Train Metric Learning', '2. Metric Learning Inference', '3. Train GNN', '4. GNN Inference', '5. Build Track Candidates', '6. Evaluate Track Candidates']\n"
     ]
    }
   ],
   "source": [
    "query = cmfquery.CmfQuery(\"./mlmd\")\n",
    "stages = query.get_pipeline_stages(\"exatrkx\")\n",
    "print(stages)"
   ]
  },
  {
   "cell_type": "markdown",
   "id": "5ac1591f",
   "metadata": {},
   "source": [
    "##### Query the Executions for **1. Train Metric Learning**"
   ]
  },
  {
   "cell_type": "code",
   "execution_count": 14,
   "id": "da0ee66d",
   "metadata": {
    "pycharm": {
     "is_executing": true
    }
   },
   "outputs": [
    {
     "name": "stdout",
     "output_type": "stream",
     "text": [
      "   Context_ID Context_Type       Execution Git_End_Commit  \\\n",
      "0           3       Train1  ['run_cmf.py']                  \n",
      "1           3       Train1  ['run_cmf.py']                  \n",
      "2           3       Train1  ['run_cmf.py']                  \n",
      "\n",
      "                                              Git_Repo  \\\n",
      "0  git@github.com:atripathy86/Tracking-ML-Exa.TrkX.git   \n",
      "1  git@github.com:atripathy86/Tracking-ML-Exa.TrkX.git   \n",
      "2  git@github.com:atripathy86/Tracking-ML-Exa.TrkX.git   \n",
      "\n",
      "                           Git_Start_Commit Pipeline_Type  Pipeline_id  \\\n",
      "0  a7d81214292d9a3233d749a8aaa1f489695135ef       exatrkx            1   \n",
      "1  a7d81214292d9a3233d749a8aaa1f489695135ef       exatrkx            1   \n",
      "2  9217c09fa9c9626dbb6809880b70aa34f87e4707       exatrkx            1   \n",
      "\n",
      "  activation  cell_channels  ...  r_test  r_train r_val randomisation  \\\n",
      "0       Tanh            9.0  ...     0.1      0.1   0.1           2.0   \n",
      "1        NaN            NaN  ...     NaN      NaN   NaN           NaN   \n",
      "2       Tanh            9.0  ...       0        0     0           2.0   \n",
      "\n",
      "                  regime spatial_channels   train_split  \\\n",
      "0  ['rp', 'hnm', 'norm']              3.0  [80, 10, 10]   \n",
      "1                    NaN              NaN           NaN   \n",
      "2  ['rp', 'hnm', 'norm']              3.0  [80, 10, 10]   \n",
      "\n",
      "              true_edges warmup  weight  \n",
      "0  modulewise_true_edges    8.0     2.0  \n",
      "1                    NaN    NaN     NaN  \n",
      "2  modulewise_true_edges    8.0     2.0  \n",
      "\n",
      "[3 rows x 36 columns]\n"
     ]
    }
   ],
   "source": [
    "pd.options.display.max_colwidth = 220\n",
    "executions = query.get_all_executions_in_stage('1. Train Metric Learning')\n",
    "print(executions)"
   ]
  },
  {
   "cell_type": "markdown",
   "id": "cbc05fd9",
   "metadata": {
    "tags": []
   },
   "source": [
    "##### Query the Executions in **2. Metric Learning Inference**"
   ]
  },
  {
   "cell_type": "code",
   "execution_count": 4,
   "id": "cd81efe0",
   "metadata": {
    "pycharm": {
     "is_executing": true
    }
   },
   "outputs": [
    {
     "name": "stdout",
     "output_type": "stream",
     "text": [
      "   Context_ID Context_Type       Execution Git_End_Commit  \\\n",
      "0           4       Infer1  ['run_cmf.py']                  \n",
      "\n",
      "                                              Git_Repo  \\\n",
      "0  git@github.com:atripathy86/Tracking-ML-Exa.TrkX.git   \n",
      "\n",
      "                           Git_Start_Commit Pipeline_Type  Pipeline_id  \\\n",
      "0  919137466dcd982728e2d222983e96c2113c1a86       exatrkx            1   \n",
      "\n",
      "  activation  cell_channels  ...  r_test  r_train  r_val  randomisation  \\\n",
      "0       Tanh              9  ...       0        0      0              2   \n",
      "\n",
      "                  regime  spatial_channels   train_split  \\\n",
      "0  ['rp', 'hnm', 'norm']                 3  [80, 10, 10]   \n",
      "\n",
      "              true_edges  warmup  weight  \n",
      "0  modulewise_true_edges       8       2  \n",
      "\n",
      "[1 rows x 35 columns]\n"
     ]
    }
   ],
   "source": [
    "pd.options.display.max_colwidth = 220\n",
    "executions = query.get_all_executions_in_stage('2. Metric Learning Inference')\n",
    "print(executions)"
   ]
  },
  {
   "cell_type": "markdown",
   "id": "dd5c7d70",
   "metadata": {
    "pycharm": {
     "name": "#%% md\n"
    }
   },
   "source": [
    "##### Query the Executions in **3. Train GNN**"
   ]
  },
  {
   "cell_type": "code",
   "execution_count": 5,
   "id": "32c8fd0c",
   "metadata": {
    "pycharm": {
     "is_executing": true
    }
   },
   "outputs": [
    {
     "name": "stdout",
     "output_type": "stream",
     "text": [
      "   Context_ID Context_Type       Execution Git_End_Commit  \\\n",
      "0           5     TrainGNN  ['run_cmf.py']                  \n",
      "\n",
      "                                              Git_Repo  \\\n",
      "0  git@github.com:atripathy86/Tracking-ML-Exa.TrkX.git   \n",
      "\n",
      "                           Git_Start_Commit Pipeline_Type  Pipeline_id  \\\n",
      "0  df811c34f7574c81bf685e261bb926e233eea59a       exatrkx            1   \n",
      "\n",
      "  aggregation  cell_channels  ... noise                         output_dir  \\\n",
      "0     sum_max              0  ...     0  datasets/quickstart_gnn_processed   \n",
      "\n",
      "   patience  pt_background_min  pt_signal_min   regime  spatial_channels  \\\n",
      "0         8                  0              0  ['pid']                 3   \n",
      "\n",
      "    truth_key  warmup  weight  \n",
      "0  pid_signal      10       2  \n",
      "\n",
      "[1 rows x 35 columns]\n"
     ]
    }
   ],
   "source": [
    "executions = query.get_all_executions_in_stage('3. Train GNN')\n",
    "print(executions)"
   ]
  },
  {
   "cell_type": "markdown",
   "id": "0342196a",
   "metadata": {},
   "source": [
    "##### Query the Executions in **4. GNN Inference**"
   ]
  },
  {
   "cell_type": "code",
   "execution_count": 6,
   "id": "e1bcfcd0",
   "metadata": {
    "pycharm": {
     "is_executing": true
    }
   },
   "outputs": [
    {
     "name": "stdout",
     "output_type": "stream",
     "text": [
      "   Context_ID Context_Type       Execution Git_End_Commit  \\\n",
      "0           6     InferGNN  ['run_cmf.py']                  \n",
      "\n",
      "                                              Git_Repo  \\\n",
      "0  git@github.com:atripathy86/Tracking-ML-Exa.TrkX.git   \n",
      "\n",
      "                           Git_Start_Commit Pipeline_Type  Pipeline_id  \\\n",
      "0  dc837ed8c527804f8e06c9c9a04998b234f9f203       exatrkx            1   \n",
      "\n",
      "  aggregation  cell_channels  ... noise                         output_dir  \\\n",
      "0     sum_max              0  ...     0  datasets/quickstart_gnn_processed   \n",
      "\n",
      "   patience  pt_background_min  pt_signal_min   regime  spatial_channels  \\\n",
      "0         8                  0              0  ['pid']                 3   \n",
      "\n",
      "    truth_key  warmup  weight  \n",
      "0  pid_signal      10       2  \n",
      "\n",
      "[1 rows x 35 columns]\n"
     ]
    }
   ],
   "source": [
    "executions = query.get_all_executions_in_stage('4. GNN Inference')\n",
    "print(executions)"
   ]
  },
  {
   "cell_type": "markdown",
   "id": "5a3051e3-18ec-447d-bf67-3b0171177f2b",
   "metadata": {},
   "source": [
    "##### Query the Executions in **5. Build Track Candidates**"
   ]
  },
  {
   "cell_type": "code",
   "execution_count": 7,
   "id": "03fda968-30c1-4c0a-845a-a767dc50bc1a",
   "metadata": {},
   "outputs": [
    {
     "name": "stdout",
     "output_type": "stream",
     "text": [
      "   Context_ID     Context_Type       Execution Git_End_Commit  \\\n",
      "0           7  TrackCandidates  ['run_cmf.py']                  \n",
      "\n",
      "                                              Git_Repo  \\\n",
      "0  git@github.com:atripathy86/Tracking-ML-Exa.TrkX.git   \n",
      "\n",
      "                           Git_Start_Commit Pipeline_Type  Pipeline_id  id  \\\n",
      "0  9f2969ce8a2969bb0d5165a431669ca29bef1596       exatrkx            1   9   \n",
      "\n",
      "                                     output_dir  score_cut  \n",
      "0  datasets/quickstart_track_building_processed          0  \n"
     ]
    }
   ],
   "source": [
    "executions = query.get_all_executions_in_stage('5. Build Track Candidates')\n",
    "print(executions)"
   ]
  },
  {
   "cell_type": "markdown",
   "id": "1b50e912-feea-4d7e-b8f2-46d7a4338cc6",
   "metadata": {},
   "source": [
    "##### Query the Executions in **6. Evaluate Track Candidates**"
   ]
  },
  {
   "cell_type": "code",
   "execution_count": 8,
   "id": "8b1e7947-f596-48f5-a494-0d7d58276ca2",
   "metadata": {},
   "outputs": [
    {
     "name": "stdout",
     "output_type": "stream",
     "text": [
      "   Context_ID         Context_Type       Execution Git_End_Commit  \\\n",
      "0           8  EvalTrackCandidates  ['run_cmf.py']                  \n",
      "\n",
      "                                              Git_Repo  \\\n",
      "0  git@github.com:atripathy86/Tracking-ML-Exa.TrkX.git   \n",
      "\n",
      "                           Git_Start_Commit Pipeline_Type  Pipeline_id  id  \\\n",
      "0  a7d81214292d9a3233d749a8aaa1f489695135ef       exatrkx            1  10   \n",
      "\n",
      "   matching_fraction matching_style  max_eta  min_particle_length  min_pt  \\\n",
      "0                  0          ATLAS        4                    3       1   \n",
      "\n",
      "   min_track_length                      output_dir  \n",
      "0                 3  datasets/quickstart_evaluation  \n"
     ]
    }
   ],
   "source": [
    "executions = query.get_all_executions_in_stage('6. Evaluate Track Candidates')\n",
    "print(executions)"
   ]
  },
  {
   "cell_type": "markdown",
   "id": "5a3599af",
   "metadata": {
    "tags": []
   },
   "source": [
    "##### Get all the artifacts of execution. \n",
    "<b>input parameter - execution_id</b><br>\n",
    "<b>output parameter - artifacts</b><br>\n"
   ]
  },
  {
   "cell_type": "code",
   "execution_count": 12,
   "id": "6fa93876",
   "metadata": {
    "pycharm": {
     "is_executing": true
    }
   },
   "outputs": [
    {
     "name": "stdout",
     "output_type": "stream",
     "text": [
      "                                            Commit  create_time_since_epoch  \\\n",
      "0  commit a7d81214292d9a3233d749a8aaa1f489695135ef            1663622654091   \n",
      "1  commit 1304578491ac94056a0d31b642058ab1ef7bba2f            1663622665523   \n",
      "\n",
      "    event                                             git_repo   id  \\\n",
      "0   INPUT  git@github.com:atripathy86/Tracking-ML-Exa.TrkX.git  166   \n",
      "1  OUTPUT  git@github.com:atripathy86/Tracking-ML-Exa.TrkX.git  167   \n",
      "\n",
      "   last_update_time_since_epoch  \\\n",
      "0                 1663622654091   \n",
      "1                 1663622665523   \n",
      "\n",
      "                                                                                name  \\\n",
      "0  datasets/quickstart_track_building_processed:69fcf465bc7f8c409bab2a04b40bd48c.dir   \n",
      "1                datasets/quickstart_evaluation:d751713988987e9331980363e24189ce.dir   \n",
      "\n",
      "      type                                   uri  \n",
      "0  Dataset  69fcf465bc7f8c409bab2a04b40bd48c.dir  \n",
      "1  Dataset  d751713988987e9331980363e24189ce.dir  \n"
     ]
    }
   ],
   "source": [
    "artifacts = query.get_all_artifacts_for_execution(10)\n",
    "print(artifacts)"
   ]
  },
  {
   "cell_type": "code",
   "execution_count": 11,
   "id": "2e82cf28",
   "metadata": {
    "pycharm": {
     "is_executing": true
    }
   },
   "outputs": [
    {
     "name": "stdout",
     "output_type": "stream",
     "text": [
      "0     training_metrics_6:4cb39f604b258be19bd78397258f3bb4:6:59fd9f42-385e-11ed-8c49-d4c9efcecfde\n",
      "1     training_metrics_6:f2eec4f8dd0ef9b39a16cb81952581e6:6:5b9f5818-385e-11ed-8c49-d4c9efcecfde\n",
      "2     training_metrics_6:6ed8013819d8ffd0bb6a85141375b802:6:70b834c2-385e-11ed-8c49-d4c9efcecfde\n",
      "3     training_metrics_6:f9ce4f946dd37dde6cd656578f9f9722:6:7291134a-385e-11ed-8c49-d4c9efcecfde\n",
      "4     training_metrics_6:84ae984e7d50511825be63d0195d98aa:6:86fca1fa-385e-11ed-8c49-d4c9efcecfde\n",
      "                                                 ...                                            \n",
      "67    training_metrics_6:093b0824afdc04f9d72d1745e172a36e:6:31a241bc-3861-11ed-8c49-d4c9efcecfde\n",
      "68    training_metrics_6:1583bb048f3800b33ed261aa2dd5ad54:6:470acce0-3861-11ed-8c49-d4c9efcecfde\n",
      "69    training_metrics_6:1583bb048f3800b33ed261aa2dd5ad54:6:48a105a6-3861-11ed-8c49-d4c9efcecfde\n",
      "70    training_metrics_6:3921b9edfc07a750c0a26b771880be63:6:4a3706a4-3861-11ed-8c49-d4c9efcecfde\n",
      "71    training_metrics_6:3921b9edfc07a750c0a26b771880be63:6:4bf0f068-3861-11ed-8c49-d4c9efcecfde\n",
      "Name: name, Length: 72, dtype: object\n",
      "0     OUTPUT\n",
      "1     OUTPUT\n",
      "2     OUTPUT\n",
      "3     OUTPUT\n",
      "4     OUTPUT\n",
      "       ...  \n",
      "67    OUTPUT\n",
      "68    OUTPUT\n",
      "69    OUTPUT\n",
      "70    OUTPUT\n",
      "71    OUTPUT\n",
      "Name: event, Length: 72, dtype: object\n"
     ]
    }
   ],
   "source": [
    "#print(pd.options.display.max_colwidth)\n",
    "pd.options.display.max_colwidth = 120\n",
    "artifacts = query.get_all_artifacts_for_execution(6)\n",
    "\n",
    "# print(artifacts)\n",
    "print(artifacts[\"name\"])\n",
    "print(artifacts[\"event\"])"
   ]
  },
  {
   "cell_type": "markdown",
   "id": "d15b7386",
   "metadata": {},
   "source": [
    "#### get all executions for an artifact(pass the artifact full name as the input parameter)"
   ]
  },
  {
   "cell_type": "code",
   "execution_count": 52,
   "id": "f1632d60",
   "metadata": {
    "pycharm": {
     "is_executing": true
    }
   },
   "outputs": [
    {
     "name": "stdout",
     "output_type": "stream",
     "text": [
      "     Type  execution_id execution_name pipeline                     stage\n",
      "0  OUTPUT             1                 exatrkx  1. Train Metric Learning\n"
     ]
    }
   ],
   "source": [
    "linked = query.get_all_executions_for_artifact(\"datasets/quickstart_metric_learning_processed:162349f1df2916e321b506159e634695.dir\")\n",
    "print(linked)"
   ]
  },
  {
   "cell_type": "markdown",
   "id": "7ad864e3",
   "metadata": {},
   "source": [
    "#### Get all the parent artifacts of an artifact. Provides the artifact lineage chain"
   ]
  },
  {
   "cell_type": "code",
   "execution_count": null,
   "id": "09652709",
   "metadata": {
    "pycharm": {
     "is_executing": true
    }
   },
   "outputs": [],
   "source": [
    "linked = query.get_all_parent_artifacts(\"artifacts/features/test.pkl\")\n",
    "print(linked)"
   ]
  },
  {
   "cell_type": "markdown",
   "id": "63b615f1",
   "metadata": {},
   "source": [
    "#### Get all the child artifacts of an artifact. Provides the lineage chain in the downstream direction"
   ]
  },
  {
   "cell_type": "code",
   "execution_count": null,
   "id": "57b85ea6",
   "metadata": {
    "pycharm": {
     "is_executing": true
    }
   },
   "outputs": [],
   "source": [
    "linked = query.get_all_child_artifacts(\"artifacts/features/train.pkl\")\n",
    "\n",
    "print(\"Name : \" + linked[\"name\"].to_string(index=False, header=False))\n",
    "print(\"Type : \" + linked[\"type\"].to_string(index=False, header=False))\n",
    "print(\"URI : \" + linked[\"uri\"].to_string(index=False, header=False))"
   ]
  },
  {
   "cell_type": "markdown",
   "id": "4cf2f2e6",
   "metadata": {
    "pycharm": {
     "name": "#%% md\n"
    }
   },
   "source": [
    "#### Get all the parent artifacts of an artifact. Provides the artifact lineage chain"
   ]
  },
  {
   "cell_type": "code",
   "execution_count": null,
   "id": "493bd571",
   "metadata": {
    "pycharm": {
     "is_executing": true
    }
   },
   "outputs": [],
   "source": [
    "linked = query.get_all_parent_artifacts(\"artifacts/model/model.pkl\")\n",
    "print(\"NAME\")\n",
    "print(linked[\"name\"].to_string(index=False, header=False))\n",
    "print(\"TYPE\")\n",
    "print(linked[\"type\"].to_string(index=False, header=False))\n",
    "print(\"URI\")\n",
    "print(linked[\"uri\"].to_string(index=False, header=False))"
   ]
  },
  {
   "cell_type": "code",
   "execution_count": null,
   "id": "a4c338be",
   "metadata": {
    "pycharm": {
     "is_executing": true
    }
   },
   "outputs": [],
   "source": [
    "linked = query.get_all_parent_artifacts(\"artifacts/parsed/test.tsv\")\n",
    "print(\"Name : \" + linked[\"name\"].to_string(index=False, header=False))\n",
    "print(\"Type : \" + linked[\"type\"].to_string(index=False, header=False))\n",
    "print(\"URI : \" + linked[\"uri\"].to_string(index=False, header=False))"
   ]
  },
  {
   "cell_type": "code",
   "execution_count": null,
   "id": "4eb35ec5",
   "metadata": {
    "pycharm": {
     "is_executing": true
    }
   },
   "outputs": [],
   "source": [
    "linked = query.get_all_child_artifacts(\"artifacts/parsed/test.tsv\")\n",
    "print(\"NAME\")\n",
    "print(linked[\"name\"].to_string(index=False, header=False))\n",
    "print(\"TYPE\")\n",
    "print(linked[\"type\"].to_string(index=False, header=False))\n",
    "print(\"URI\")\n",
    "print(linked[\"uri\"].to_string(index=False, header=False))"
   ]
  },
  {
   "cell_type": "markdown",
   "id": "29060ba9",
   "metadata": {},
   "source": [
    "#### Get immediate child artifacts of an artifact. "
   ]
  },
  {
   "cell_type": "code",
   "execution_count": null,
   "id": "93bd401d",
   "metadata": {
    "pycharm": {
     "is_executing": true
    }
   },
   "outputs": [],
   "source": [
    "linked = query.get_one_hop_child_artifacts(\"artifacts/data.xml.gz\")\n",
    "print(\"NAME\")\n",
    "print(linked[\"name\"].to_string(index=False, header=False))\n",
    "print(\"TYPE\")\n",
    "print(linked[\"type\"].to_string(index=False, header=False))\n",
    "print(\"URI\")\n",
    "print(linked[\"uri\"].to_string(index=False, header=False))"
   ]
  },
  {
   "cell_type": "code",
   "execution_count": null,
   "id": "496ee2bc",
   "metadata": {
    "pycharm": {
     "is_executing": true
    }
   },
   "outputs": [],
   "source": [
    "linked = query.get_all_child_artifacts(\"artifacts/data.xml.gz\")\n",
    "#print(linked.sort_values('create_time_since_epoch', ascending=True))\n",
    "print(\"NAME\")\n",
    "print(linked[\"name\"].to_string(index=False, header=False))\n",
    "print(\"TYPE\")\n",
    "print(linked[\"type\"].to_string(index=False, header=False))\n",
    "print(\"URI\")\n",
    "print(linked[\"uri\"].to_string(index=False, header=False))"
   ]
  },
  {
   "cell_type": "code",
   "execution_count": null,
   "id": "1ae1d868",
   "metadata": {
    "pycharm": {
     "is_executing": true
    }
   },
   "outputs": [],
   "source": [
    "linked = query.get_all_artifacts_for_execution(4)\n",
    "print(\"NAME\")\n",
    "print(linked[\"name\"].to_string(index=False, header=False))\n",
    "print(\"TYPE\")\n",
    "print(linked[\"type\"].to_string(index=False, header=False))\n",
    "print(\"URI\")\n",
    "print(linked[\"uri\"].to_string(index=False, header=False))"
   ]
  },
  {
   "cell_type": "markdown",
   "id": "ae3109b7",
   "metadata": {},
   "source": [
    "### Change the metrics name in the get_artifact call with the metrics name from output of the previous cell"
   ]
  },
  {
   "cell_type": "code",
   "execution_count": null,
   "id": "8bf8a41d",
   "metadata": {
    "pycharm": {
     "is_executing": true
    }
   },
   "outputs": [],
   "source": [
    "artifacts = query.get_artifact(\"metrics:aaae534e-915d-11ec-b106-89841b9859cd:4\")\n",
    "print(artifacts)\n"
   ]
  },
  {
   "cell_type": "code",
   "execution_count": null,
   "id": "ca26387d",
   "metadata": {
    "pycharm": {
     "is_executing": true,
     "name": "#%%\n"
    }
   },
   "outputs": [],
   "source": [
    "new_parquet_df = pd.read_parquet(\"./slice-a\")\n",
    "print(new_parquet_df)"
   ]
  }
 ],
 "metadata": {
  "kernelspec": {
   "display_name": "Python 3 (ipykernel)",
   "language": "python",
   "name": "python3"
  },
  "language_info": {
   "codemirror_mode": {
    "name": "ipython",
    "version": 3
   },
   "file_extension": ".py",
   "mimetype": "text/x-python",
   "name": "python",
   "nbconvert_exporter": "python",
   "pygments_lexer": "ipython3",
   "version": "3.8.13"
  }
 },
 "nbformat": 4,
 "nbformat_minor": 5
}
